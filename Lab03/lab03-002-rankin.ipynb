{
 "cells": [
  {
   "cell_type": "markdown",
   "metadata": {},
   "source": [
    "# Lab 3: Linear Regression"
   ]
  },
  {
   "cell_type": "markdown",
   "metadata": {},
   "source": [
    "In this assignment, we will learn the Linear Regression model. \n",
    "\n",
    "First, please study the given example, which uses linear regression for the house price prediction task. In this example, you will learn how to preprocess data, how to train the model, and how to evaluate the model. \n",
    "\n",
    "Based on the given example and Lab Assignment 2, your task is to use the linear regression model to predict the medical cost for the dataset given in Lab Assignment 2. "
   ]
  },
  {
   "cell_type": "markdown",
   "metadata": {},
   "source": [
    "## 1. Example: Linear Regression for House Price Prediction"
   ]
  },
  {
   "cell_type": "markdown",
   "metadata": {},
   "source": [
    "In this example, we use the house price dataset. It gives the attributes and price of each house. The task is to build a linear regression model to make prediction for the price of the house."
   ]
  },
  {
   "cell_type": "markdown",
   "metadata": {},
   "source": [
    "### 1.1 Preprocess the raw data\n",
    "\n",
    "When given a new dataset, we need to deal with the missing values and categorical features. "
   ]
  },
  {
   "cell_type": "code",
   "execution_count": 2,
   "metadata": {},
   "outputs": [
    {
     "name": "stdout",
     "output_type": "stream",
     "text": [
      "longitude             0\n",
      "latitude              0\n",
      "housing_median_age    0\n",
      "total_rooms           0\n",
      "total_bedrooms        0\n",
      "population            0\n",
      "households            0\n",
      "median_income         0\n",
      "median_house_value    0\n",
      "ocean_proximity       0\n",
      "dtype: int64\n",
      "<class 'pandas.core.frame.DataFrame'>\n",
      "RangeIndex: 20640 entries, 0 to 20639\n",
      "Data columns (total 10 columns):\n",
      " #   Column              Non-Null Count  Dtype  \n",
      "---  ------              --------------  -----  \n",
      " 0   longitude           20640 non-null  float64\n",
      " 1   latitude            20640 non-null  float64\n",
      " 2   housing_median_age  20640 non-null  int64  \n",
      " 3   total_rooms         20640 non-null  int64  \n",
      " 4   total_bedrooms      20640 non-null  float64\n",
      " 5   population          20640 non-null  int64  \n",
      " 6   households          20640 non-null  int64  \n",
      " 7   median_income       20640 non-null  float64\n",
      " 8   median_house_value  20640 non-null  int64  \n",
      " 9   ocean_proximity     20640 non-null  int64  \n",
      "dtypes: float64(4), int64(6)\n",
      "memory usage: 1.6 MB\n",
      "None\n"
     ]
    }
   ],
   "source": [
    "import pandas as pd\n",
    "import numpy as np\n",
    "from sklearn.preprocessing import LabelEncoder\n",
    "from sklearn.model_selection import train_test_split\n",
    "from sklearn.preprocessing import StandardScaler\n",
    "from sklearn.linear_model import LinearRegression, Ridge, Lasso\n",
    "from sklearn.metrics import mean_absolute_error,mean_squared_error\n",
    "import matplotlib.pyplot as plt\n",
    "\n",
    "\n",
    "df = pd.read_csv('housing.csv')\n",
    "\n",
    "# 0. fill in missing values\n",
    "mean_val = df['total_bedrooms'].mean()\n",
    "df['total_bedrooms'] = df['total_bedrooms'].fillna(mean_val)\n",
    "print(df.isnull().sum())\n",
    "\n",
    "# 1. convert categorical features to numerical values\n",
    "labelencoder = LabelEncoder()\n",
    "df['ocean_proximity'] = labelencoder.fit_transform(df['ocean_proximity'])\n",
    "print(df.info())"
   ]
  },
  {
   "cell_type": "markdown",
   "metadata": {},
   "source": [
    "### 1.2 Split the preprocessed dataset into training set and testing set\n",
    "\n",
    "For the supervised learning, we need to split the dataset into the training set and test set. The training set is used to learn model parameters and the testing set is used to evaluate the learned model. \n",
    "\n",
    "Note that the testing set is NOT allowed to be used in the training phase. "
   ]
  },
  {
   "cell_type": "code",
   "execution_count": 3,
   "metadata": {},
   "outputs": [
    {
     "name": "stdout",
     "output_type": "stream",
     "text": [
      "(16512, 9)\n",
      "(4128, 9)\n"
     ]
    }
   ],
   "source": [
    "# 2. split samples\n",
    "house_fea = df.drop('median_house_value', axis=1).values\n",
    "house_price = df['median_house_value'].values\n",
    "house_price = house_price / np.max(house_price)\n",
    "\n",
    "X_train,X_test,y_train,y_test = train_test_split(house_fea,\n",
    "                                                 house_price,\n",
    "                                                 test_size=0.2,\n",
    "                                                 random_state=42)\n",
    "print(X_train.shape)\n",
    "print(X_test.shape)\n",
    "\n",
    "\n",
    "# normalize features\n",
    "normalizer = StandardScaler()\n",
    "X_train = normalizer.fit_transform(X_train)\n",
    "X_test = normalizer.transform(X_test)"
   ]
  },
  {
   "cell_type": "markdown",
   "metadata": {},
   "source": [
    "### 1.3 Train the linear regression model \n",
    "\n",
    "$\\min_{w}\\frac{1}{n}\\|y-X\\mathbf{w}\\|_2^2$\n",
    "\n",
    "\n",
    "\n",
    "Here, we use the training set to learn the model parameter $\\mathbf{w}=(w_0, w_1, w_2, \\cdots, w_d)$. \n",
    "\n",
    "Then, we compute MAE, MSE, and RMSE to see how well the learned model fit the training set. "
   ]
  },
  {
   "cell_type": "code",
   "execution_count": 4,
   "metadata": {},
   "outputs": [
    {
     "name": "stdout",
     "output_type": "stream",
     "text": [
      "bias is 0.41438855869860675\n",
      "coefficients  is [-0.17170955 -0.18189176  0.02984855 -0.0353864   0.09753502 -0.08776816\n",
      "  0.03520256  0.15428789 -0.00090304]\n",
      "prediction for training set:\n",
      "MAE is: 0.10125365457873205\n",
      "MSE is: 0.0192437559440504\n",
      "RMSE is: 0.13872186541439818\n"
     ]
    }
   ],
   "source": [
    "#3. train the model\n",
    "lr = LinearRegression()\n",
    "\n",
    "lr.fit(X_train,y_train)\n",
    "\n",
    "print(\"bias is \"+str(lr.intercept_))\n",
    "print(\"coefficients  is \"+str(lr.coef_))\n",
    "\n",
    "y_train_pred = lr.predict(X_train)\n",
    "\n",
    "mae = mean_absolute_error(y_train_pred,y_train)\n",
    "mse = mean_squared_error(y_train_pred,y_train)\n",
    "rmse = np.sqrt(mse)\n",
    "\n",
    "print('prediction for training set:')\n",
    "print('MAE is: {}'.format(mae))\n",
    "print('MSE is: {}'.format(mse))\n",
    "print('RMSE is: {}'.format(rmse))\n"
   ]
  },
  {
   "cell_type": "markdown",
   "metadata": {},
   "source": [
    "### 1.4 Evaluate the linear regression model\n",
    "\n",
    "After obtaining the model parameter $\\mathbf{w}=(w_0, w_1, w_2, \\cdots, w_d)$, the linear regression model is determined. Then, we need to evaluate this model to see how well this model generaizes on the testing set. "
   ]
  },
  {
   "cell_type": "code",
   "execution_count": 5,
   "metadata": {},
   "outputs": [
    {
     "name": "stdout",
     "output_type": "stream",
     "text": [
      "prediction for testing set:\n",
      "MAE is: 0.10369354831097967\n",
      "MSE is: 0.020220019584503236\n",
      "RMSE is: 0.14219711524677017\n"
     ]
    },
    {
     "data": {
      "image/png": "[encoded data removed]",
      "text/plain": [
       "<Figure size 640x480 with 1 Axes>"
      ]
     },
     "metadata": {},
     "output_type": "display_data"
    }
   ],
   "source": [
    "#4. evaluate the model\n",
    "y_test_pred = lr.predict(X_test)\n",
    "\n",
    "mae = mean_absolute_error(y_test_pred,y_test)\n",
    "mse = mean_squared_error(y_test_pred,y_test)\n",
    "rmse = np.sqrt(mse)\n",
    "\n",
    "print('prediction for testing set:')\n",
    "print('MAE is: {}'.format(mae))\n",
    "print('MSE is: {}'.format(mse))\n",
    "print('RMSE is: {}'.format(rmse))\n",
    "\n",
    "\n",
    "labels = ['House1', 'House2', 'House3', 'House4', 'House5']\n",
    "x = np.arange(len(labels))  # the label locations\n",
    "width = 0.35  # the width of the bars\n",
    "\n",
    "fig, ax = plt.subplots()\n",
    "rects1 = ax.bar(x - width/2, y_test[0:5], width, label='ground truth')\n",
    "rects2 = ax.bar(x + width/2, y_test_pred[0:5], width, label='prediction')\n",
    "\n",
    "ax.set_ylabel('Price')\n",
    "ax.set_xticks(x)\n",
    "ax.set_xticklabels(labels)\n",
    "ax.legend()\n",
    "\n",
    "plt.show()\n"
   ]
  },
  {
   "cell_type": "markdown",
   "metadata": {},
   "source": [
    "## 2. Task: Linear Regression for Medical Cost Prediction\n",
    "\n",
    "Following the given example, build a linear regression model for [the insurance dataset](./insurance.csv) to predict the medical cost.  \n"
   ]
  },
  {
   "cell_type": "markdown",
   "metadata": {},
   "source": [
    "### 2.1 Preprocess the raw data\n",
    "\n",
    "Based on your Lab Assignment 2, deal with the missing values and categorical features. "
   ]
  },
  {
   "cell_type": "code",
   "execution_count": 4,
   "metadata": {},
   "outputs": [
    {
     "name": "stdout",
     "output_type": "stream",
     "text": [
      "age         0\n",
      "sex         0\n",
      "bmi         0\n",
      "children    0\n",
      "smoker      0\n",
      "region      0\n",
      "charges     0\n",
      "dtype: int64\n",
      "<class 'pandas.core.frame.DataFrame'>\n",
      "RangeIndex: 1338 entries, 0 to 1337\n",
      "Data columns (total 7 columns):\n",
      " #   Column    Non-Null Count  Dtype  \n",
      "---  ------    --------------  -----  \n",
      " 0   age       1338 non-null   int64  \n",
      " 1   sex       1338 non-null   int64  \n",
      " 2   bmi       1338 non-null   float64\n",
      " 3   children  1338 non-null   int64  \n",
      " 4   smoker    1338 non-null   int64  \n",
      " 5   region    1338 non-null   int64  \n",
      " 6   charges   1338 non-null   float64\n",
      "dtypes: float64(2), int64(5)\n",
      "memory usage: 73.3 KB\n",
      "None\n"
     ]
    }
   ],
   "source": [
    "# your code\n",
    "\n",
    "df = pd.read_csv('insurance.csv')\n",
    "\n",
    "# 0. fill in missing values\n",
    "mean_val = df['bmi'].mean()\n",
    "df['bmi'] = df['bmi'].fillna(mean_val)\n",
    "print(df.isnull().sum())\n",
    "\n",
    "df['sex'] = labelencoder.fit_transform(df['sex'])\n",
    "df['smoker'] = labelencoder.fit_transform(df['smoker'])\n",
    "df['region'] = labelencoder.fit_transform(df['region'])\n",
    "print(df.info())"
   ]
  },
  {
   "cell_type": "markdown",
   "metadata": {},
   "source": [
    "### 1.2 Split the preprocessed dataset into training set and testing set\n",
    "\n",
    "Use 80% of samples as the training set and 20% of samples as the testing set"
   ]
  },
  {
   "cell_type": "code",
   "execution_count": 6,
   "metadata": {},
   "outputs": [
    {
     "name": "stdout",
     "output_type": "stream",
     "text": [
      "(1070, 6)\n",
      "(268, 6)\n"
     ]
    }
   ],
   "source": [
    "# your code\n",
    "# 2. split samples\n",
    "X = df.drop('charges', axis=1).values\n",
    "y = df['charges'].values\n",
    "\n",
    "X_train,X_test,y_train,y_test = train_test_split(X,\n",
    "                                                 y,\n",
    "                                                 test_size=0.2,\n",
    "                                                 random_state=42)\n",
    "print(X_train.shape)\n",
    "print(X_test.shape)\n",
    "\n",
    "\n",
    "# normalize features\n",
    "normalizer = StandardScaler()\n",
    "X_train = normalizer.fit_transform(X_train)\n",
    "X_test = normalizer.transform(X_test)"
   ]
  },
  {
   "cell_type": "markdown",
   "metadata": {},
   "source": [
    "### 1.3 Train the linear regression model \n",
    "\n",
    "Use the Linear regression model to do prediction\n",
    "\n",
    "$\\min_{w}\\frac{1}{n}\\|y-X\\mathbf{w}\\|_2^2$\n",
    "\n",
    "Please output the learned model parameter $\\mathbf{w}$ and see how the learned model fit the training set. "
   ]
  },
  {
   "cell_type": "code",
   "execution_count": 15,
   "metadata": {},
   "outputs": [
    {
     "name": "stdout",
     "output_type": "stream",
     "text": [
      "bias:  13346.08973636448\n",
      "coefficients:  [ 3.61610865e+03 -9.39295411e+00  2.02830858e+03  5.16662566e+02\n",
      "  9.55714338e+03 -3.02387980e+02]\n",
      "MAE is: 4208.762029186574\n",
      "MSE is: 37280663.22256598\n",
      "RMSE is: 6105.789320191615\n"
     ]
    }
   ],
   "source": [
    "# your code\n",
    "lr = LinearRegression()\n",
    "\n",
    "lr.fit(X_train, y_train)\n",
    "\n",
    "print('bias: ', str(lr.intercept_))\n",
    "print('coefficients: ', str(lr.coef_))\n",
    "\n",
    "y_train_pred = lr.predict(X_train)\n",
    "\n",
    "mae = mean_absolute_error(y_train_pred, y_train)\n",
    "mse = mean_squared_error(y_train_pred, y_train)\n",
    "rmse = np.sqrt(mse)\n",
    "\n",
    "print('MAE is: {}'.format(mae))\n",
    "print('MSE is: {}'.format(mse))\n",
    "print('RMSE is: {}'.format(rmse))\n",
    "\n"
   ]
  },
  {
   "cell_type": "markdown",
   "metadata": {},
   "source": [
    "### 1.4 Evaluate the linear regression model\n",
    "\n",
    "\n",
    "Evaluate the learned model to see how well this model generaizes on the testing set. "
   ]
  },
  {
   "cell_type": "code",
   "execution_count": 16,
   "metadata": {},
   "outputs": [
    {
     "name": "stdout",
     "output_type": "stream",
     "text": [
      "prediction for testing set:\n",
      "MAE is: 4186.508898366437\n",
      "MSE is: 33635210.431178436\n",
      "RMSE is: 5799.587091438359\n"
     ]
    },
    {
     "data": {
      "image/png": "[encoded data removed]",
      "text/plain": [
       "<Figure size 640x480 with 1 Axes>"
      ]
     },
     "metadata": {},
     "output_type": "display_data"
    }
   ],
   "source": [
    "y_test_pred = lr.predict(X_test)\n",
    "\n",
    "mae = mean_absolute_error(y_test_pred,y_test)\n",
    "mse = mean_squared_error(y_test_pred,y_test)\n",
    "rmse = np.sqrt(mse)\n",
    "\n",
    "print('prediction for testing set:')\n",
    "print('MAE is: {}'.format(mae))\n",
    "print('MSE is: {}'.format(mse))\n",
    "print('RMSE is: {}'.format(rmse))\n",
    "\n",
    "\n",
    "labels = ['Charge1', 'Charge2', 'Charge3', 'Charge4', 'Charge5']\n",
    "x = np.arange(len(labels))  # the label locations\n",
    "width = 0.35  # the width of the bars\n",
    "\n",
    "fig, ax = plt.subplots()\n",
    "rects1 = ax.bar(x - width/2, y_test[0:5], width, label='ground truth')\n",
    "rects2 = ax.bar(x + width/2, y_test_pred[0:5], width, label='prediction')\n",
    "\n",
    "ax.set_ylabel('Cost')\n",
    "ax.set_xticks(x)\n",
    "ax.set_xticklabels(labels)\n",
    "ax.legend()\n",
    "\n",
    "plt.show()\n"
   ]
  },
  {
   "cell_type": "markdown",
   "metadata": {},
   "source": [
    "### 1.5 Use the ridge regression model to do prediction\n",
    "\n",
    "$\\min_{w}\\frac{1}{n}\\|y-Xw\\|_2^2 + \\lambda \\|w\\|_2^2$\n",
    "\n",
    "* 1.5.1 Compare its performance on the testing set with that of the standard linear regression model $\\min_{w}\\frac{1}{n}\\|y-Xw\\|_2^2$\n",
    "\n",
    "* 1.5.2 Use different $\\lambda$ to see how it affects the performance of the ridge regression  model on the testing set\n"
   ]
  },
  {
   "cell_type": "code",
   "execution_count": 18,
   "metadata": {},
   "outputs": [
    {
     "name": "stdout",
     "output_type": "stream",
     "text": [
      "Lambda: 0\n",
      "Bias: 13346.08973636448\n",
      "Coefficients: [ 3.61610865e+03 -9.39295411e+00  2.02830858e+03  5.16662566e+02\n",
      "  9.55714338e+03 -3.02387980e+02]\n",
      "MAE is: 4186.508898366428\n",
      "MSE is: 33635210.431178406\n",
      "RMSE is: 5799.587091438356\n",
      "\n",
      "Lambda: 0.1\n",
      "Bias: 13346.08973636448\n",
      "Coefficients: [ 3.61574230e+03 -9.32664271e+00  2.02814938e+03  5.16648051e+02\n",
      "  9.55622670e+03 -3.02334899e+02]\n",
      "MAE is: 4186.655318661208\n",
      "MSE is: 33635862.37364098\n",
      "RMSE is: 5799.643297103795\n",
      "\n",
      "Lambda: 1\n",
      "Bias: 13346.08973636448\n",
      "Coefficients: [ 3.61244853e+03 -8.73095622e+00  2.02671768e+03  5.16517239e+02\n",
      "  9.54798452e+03 -3.01857800e+02]\n",
      "MAE is: 4187.971685427721\n",
      "MSE is: 33641818.58882586\n",
      "RMSE is: 5800.156772780013\n",
      "\n",
      "Lambda: 10\n",
      "Bias: 13346.08973636448\n",
      "Coefficients: [ 3.57984175e+03 -2.88304551e+00  2.01250738e+03  5.15192056e+02\n",
      "  9.46634291e+03 -2.97148271e+02]\n",
      "MAE is: 4201.643693290569\n",
      "MSE is: 33709992.27454847\n",
      "RMSE is: 5806.030681502508\n",
      "\n",
      "Lambda: 100\n",
      "Bias: 13346.08973636448\n",
      "Coefficients: [3283.76677541   46.0678055  1880.36343235  500.62266387 8721.05108341\n",
      " -255.55359814]\n",
      "MAE is: 4359.298045079102\n",
      "MSE is: 35102626.95085424\n",
      "RMSE is: 5924.746994670257\n",
      "\n",
      "Lambda: 1000\n",
      "Bias: 13346.089736364482\n",
      "Coefficients: [1802.16235737  168.76629032 1130.77861118  355.26064136 4885.53835169\n",
      "  -85.88096891]\n",
      "MAE is: 5989.194426193482\n",
      "MSE is: 64241550.381618954\n",
      "RMSE is: 8015.082680897244\n",
      "\n",
      "Lambda: 10000\n",
      "Bias: 13346.089736364485\n",
      "Coefficients: [328.70714106  59.54167805 225.67838196  80.31884304 907.0440729\n",
      "  -3.27609094]\n",
      "MAE is: 8867.794947748389\n",
      "MSE is: 133791943.58689883\n",
      "RMSE is: 11566.846743468976\n",
      "\n",
      "Lambda: 100000\n",
      "Bias: 13346.089736364485\n",
      "Coefficients: [ 3.58494981e+01  7.14758377e+00  2.50543728e+01  9.10507508e+00\n",
      "  9.92283357e+01 -5.32525470e-02]\n",
      "MAE is: 9513.562289677164\n",
      "MSE is: 152922535.57636395\n",
      "RMSE is: 12366.185166669791\n",
      "\n"
     ]
    }
   ],
   "source": [
    "for lam in [0, 0.1, 1, 10, 100, 1000, 10000, 100000]:\n",
    "    model = Ridge(alpha=lam)\n",
    "    model.fit(X_train, y_train)\n",
    "    \n",
    "    y_test_pred = model.predict(X_test)\n",
    "    \n",
    "    mae = mean_absolute_error(y_test_pred, y_test)\n",
    "    mse = mean_squared_error(y_test_pred, y_test)\n",
    "    rmse = np.sqrt(mse)\n",
    "    \n",
    "    #print data and eval metrics\n",
    "    print(\"Lambda: {}\".format(lam))\n",
    "    print(\"Bias: {}\".format(model.intercept_))\n",
    "    print(\"Coefficients: {}\".format(model.coef_))\n",
    "    print('MAE is: {}'.format(mae))\n",
    "    print('MSE is: {}'.format(mse))\n",
    "    print('RMSE is: {}'.format(rmse))\n",
    "    print()"
   ]
  },
  {
   "cell_type": "code",
   "execution_count": null,
   "metadata": {},
   "outputs": [],
   "source": []
  }
 ],
 "metadata": {
  "kernelspec": {
   "display_name": "Python 3 (ipykernel)",
   "language": "python",
   "name": "python3"
  },
  "language_info": {
   "codemirror_mode": {
    "name": "ipython",
    "version": 3
   },
   "file_extension": ".py",
   "mimetype": "text/x-python",
   "name": "python",
   "nbconvert_exporter": "python",
   "pygments_lexer": "ipython3",
   "version": "3.10.8"
  }
 },
 "nbformat": 4,
 "nbformat_minor": 4
}
